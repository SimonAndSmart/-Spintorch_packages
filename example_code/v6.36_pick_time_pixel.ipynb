{
 "cells": [
  {
   "attachments": {},
   "cell_type": "markdown",
   "id": "1bc272d3",
   "metadata": {},
   "source": [
    "# SpinTorch (Local/Json version6.36) \n",
    "Use multi virtual probes with different weighting to get intensity readings.\n",
    "v6.32\n",
    "- fixed loss value representation during testing.\n",
    "\n",
    "v6.33\n",
    "- changed 'weighting_cut_off' into 'dist_cut_off' so now we define the radius of the probe directlly.\n",
    "- added ability to make mutiple accuracy test\n",
    "- better way to chose equal probe measure method\n",
    "\n",
    "v6.34\n",
    "- bug fix\n",
    "\n",
    "v6.35\n",
    "- add max intensity classify for accuracy test back\n",
    "\n",
    "v6.36\n",
    "- devided the one sum-intensity value into a set of 2ns period intensity sum\n",
    "- added a extra layer over regression training so it will pick the region gives the best acc on training data.\n",
    "- detailed acc result for each choice of time pixle saved into txt files\n",
    "\n",
    "Latter\n",
    "- fix ROC curve"
   ]
  },
}
